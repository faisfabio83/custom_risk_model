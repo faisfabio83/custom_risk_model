{
 "cells": [
  {
   "cell_type": "code",
   "execution_count": 1,
   "metadata": {},
   "outputs": [],
   "source": [
    "import pandas as pd\n",
    "import numpy as np"
   ]
  },
  {
   "cell_type": "code",
   "execution_count": 3,
   "metadata": {},
   "outputs": [
    {
     "data": {
      "text/html": [
       "<div>\n",
       "<style scoped>\n",
       "    .dataframe tbody tr th:only-of-type {\n",
       "        vertical-align: middle;\n",
       "    }\n",
       "\n",
       "    .dataframe tbody tr th {\n",
       "        vertical-align: top;\n",
       "    }\n",
       "\n",
       "    .dataframe thead th {\n",
       "        text-align: right;\n",
       "    }\n",
       "</style>\n",
       "<table border=\"1\" class=\"dataframe\">\n",
       "  <thead>\n",
       "    <tr style=\"text-align: right;\">\n",
       "      <th></th>\n",
       "      <th>Name</th>\n",
       "      <th>Symbol</th>\n",
       "      <th>% Index Weight</th>\n",
       "      <th>Adj. Market Value</th>\n",
       "      <th>Adj. Shares</th>\n",
       "      <th>Price</th>\n",
       "      <th>1 Day %Change</th>\n",
       "      <th>Country</th>\n",
       "      <th>Sector Name</th>\n",
       "    </tr>\n",
       "  </thead>\n",
       "  <tbody>\n",
       "    <tr>\n",
       "      <th>0</th>\n",
       "      <td>MSCI Europe</td>\n",
       "      <td>EU000U-MSX</td>\n",
       "      <td>100.000000</td>\n",
       "      <td>9.676385e+06</td>\n",
       "      <td>-</td>\n",
       "      <td>1803.145077</td>\n",
       "      <td>0.461555</td>\n",
       "      <td>NaN</td>\n",
       "      <td>NaN</td>\n",
       "    </tr>\n",
       "    <tr>\n",
       "      <th>1</th>\n",
       "      <td>Brenntag AG</td>\n",
       "      <td>BNR-DE</td>\n",
       "      <td>0.123562</td>\n",
       "      <td>1.195631e+04</td>\n",
       "      <td>154.5</td>\n",
       "      <td>77.387100</td>\n",
       "      <td>0.764807</td>\n",
       "      <td>Germany</td>\n",
       "      <td>Industrials</td>\n",
       "    </tr>\n",
       "    <tr>\n",
       "      <th>2</th>\n",
       "      <td>LANXESS AG</td>\n",
       "      <td>LXS-DE</td>\n",
       "      <td>0.064291</td>\n",
       "      <td>6.220998e+03</td>\n",
       "      <td>83.0755</td>\n",
       "      <td>74.883700</td>\n",
       "      <td>1.678890</td>\n",
       "      <td>Germany</td>\n",
       "      <td>Materials</td>\n",
       "    </tr>\n",
       "    <tr>\n",
       "      <th>3</th>\n",
       "      <td>Telefonica Deutschland Holding AG</td>\n",
       "      <td>O2D-DE</td>\n",
       "      <td>0.029262</td>\n",
       "      <td>2.831495e+03</td>\n",
       "      <td>1041.09</td>\n",
       "      <td>2.719730</td>\n",
       "      <td>-1.316500</td>\n",
       "      <td>Germany</td>\n",
       "      <td>Communication Services</td>\n",
       "    </tr>\n",
       "    <tr>\n",
       "      <th>4</th>\n",
       "      <td>EXOR N.V.</td>\n",
       "      <td>EXO-IT</td>\n",
       "      <td>0.082157</td>\n",
       "      <td>7.949806e+03</td>\n",
       "      <td>108.45</td>\n",
       "      <td>73.303900</td>\n",
       "      <td>1.369560</td>\n",
       "      <td>Italy</td>\n",
       "      <td>Financials</td>\n",
       "    </tr>\n",
       "  </tbody>\n",
       "</table>\n",
       "</div>"
      ],
      "text/plain": [
       "                                Name      Symbol  % Index Weight  \\\n",
       "0                        MSCI Europe  EU000U-MSX      100.000000   \n",
       "1                        Brenntag AG      BNR-DE        0.123562   \n",
       "2                         LANXESS AG      LXS-DE        0.064291   \n",
       "3  Telefonica Deutschland Holding AG      O2D-DE        0.029262   \n",
       "4                          EXOR N.V.      EXO-IT        0.082157   \n",
       "\n",
       "   Adj. Market Value Adj. Shares        Price  1 Day %Change  Country  \\\n",
       "0       9.676385e+06           -  1803.145077       0.461555      NaN   \n",
       "1       1.195631e+04       154.5    77.387100       0.764807  Germany   \n",
       "2       6.220998e+03     83.0755    74.883700       1.678890  Germany   \n",
       "3       2.831495e+03     1041.09     2.719730      -1.316500  Germany   \n",
       "4       7.949806e+03      108.45    73.303900       1.369560    Italy   \n",
       "\n",
       "              Sector Name  \n",
       "0                     NaN  \n",
       "1             Industrials  \n",
       "2               Materials  \n",
       "3  Communication Services  \n",
       "4              Financials  "
      ]
     },
     "execution_count": 3,
     "metadata": {},
     "output_type": "execute_result"
    }
   ],
   "source": [
    "# Import MSCI Europe.xslx\n",
    "\n",
    "df = pd.read_excel(\"MSCI_EUROPE.xlsx\")\n",
    "\n",
    "df.head()"
   ]
  },
  {
   "cell_type": "code",
   "execution_count": 16,
   "metadata": {},
   "outputs": [],
   "source": [
    "# Discard first row referring to MSCI Europe index\n",
    "\n",
    "df = df.loc[1:]"
   ]
  },
  {
   "cell_type": "code",
   "execution_count": 17,
   "metadata": {},
   "outputs": [
    {
     "data": {
      "text/html": [
       "<div>\n",
       "<style scoped>\n",
       "    .dataframe tbody tr th:only-of-type {\n",
       "        vertical-align: middle;\n",
       "    }\n",
       "\n",
       "    .dataframe tbody tr th {\n",
       "        vertical-align: top;\n",
       "    }\n",
       "\n",
       "    .dataframe thead th {\n",
       "        text-align: right;\n",
       "    }\n",
       "</style>\n",
       "<table border=\"1\" class=\"dataframe\">\n",
       "  <thead>\n",
       "    <tr style=\"text-align: right;\">\n",
       "      <th></th>\n",
       "      <th>% Index Weight</th>\n",
       "      <th>Adj. Market Value</th>\n",
       "      <th>Price</th>\n",
       "      <th>1 Day %Change</th>\n",
       "    </tr>\n",
       "  </thead>\n",
       "  <tbody>\n",
       "    <tr>\n",
       "      <th>count</th>\n",
       "      <td>434.000000</td>\n",
       "      <td>434.000000</td>\n",
       "      <td>434.000000</td>\n",
       "      <td>434.000000</td>\n",
       "    </tr>\n",
       "    <tr>\n",
       "      <th>mean</th>\n",
       "      <td>0.230415</td>\n",
       "      <td>22295.817750</td>\n",
       "      <td>365.795220</td>\n",
       "      <td>0.655385</td>\n",
       "    </tr>\n",
       "    <tr>\n",
       "      <th>std</th>\n",
       "      <td>0.331483</td>\n",
       "      <td>32075.567298</td>\n",
       "      <td>4640.770395</td>\n",
       "      <td>1.714351</td>\n",
       "    </tr>\n",
       "    <tr>\n",
       "      <th>min</th>\n",
       "      <td>0.023608</td>\n",
       "      <td>2284.393163</td>\n",
       "      <td>0.469451</td>\n",
       "      <td>-5.299480</td>\n",
       "    </tr>\n",
       "    <tr>\n",
       "      <th>25%</th>\n",
       "      <td>0.069040</td>\n",
       "      <td>6680.538579</td>\n",
       "      <td>17.418425</td>\n",
       "      <td>-0.452397</td>\n",
       "    </tr>\n",
       "    <tr>\n",
       "      <th>50%</th>\n",
       "      <td>0.115826</td>\n",
       "      <td>11207.800333</td>\n",
       "      <td>42.251400</td>\n",
       "      <td>0.734912</td>\n",
       "    </tr>\n",
       "    <tr>\n",
       "      <th>75%</th>\n",
       "      <td>0.251782</td>\n",
       "      <td>24363.415329</td>\n",
       "      <td>98.680825</td>\n",
       "      <td>1.647518</td>\n",
       "    </tr>\n",
       "    <tr>\n",
       "      <th>max</th>\n",
       "      <td>3.346350</td>\n",
       "      <td>323805.742652</td>\n",
       "      <td>96124.600000</td>\n",
       "      <td>7.861490</td>\n",
       "    </tr>\n",
       "  </tbody>\n",
       "</table>\n",
       "</div>"
      ],
      "text/plain": [
       "       % Index Weight  Adj. Market Value         Price  1 Day %Change\n",
       "count      434.000000         434.000000    434.000000     434.000000\n",
       "mean         0.230415       22295.817750    365.795220       0.655385\n",
       "std          0.331483       32075.567298   4640.770395       1.714351\n",
       "min          0.023608        2284.393163      0.469451      -5.299480\n",
       "25%          0.069040        6680.538579     17.418425      -0.452397\n",
       "50%          0.115826       11207.800333     42.251400       0.734912\n",
       "75%          0.251782       24363.415329     98.680825       1.647518\n",
       "max          3.346350      323805.742652  96124.600000       7.861490"
      ]
     },
     "execution_count": 17,
     "metadata": {},
     "output_type": "execute_result"
    }
   ],
   "source": [
    "df.describe()"
   ]
  },
  {
   "cell_type": "code",
   "execution_count": 34,
   "metadata": {
    "collapsed": true
   },
   "outputs": [
    {
     "data": {
      "text/plain": [
       "Name                         Symbol    % Index Weight  Adj. Market Value  Adj. Shares  Price     1 Day %Change  Country         Sector Name           \n",
       "voestalpine AG               VOE-AT    0.041861        4050.617555        116.056956   34.9020    2.328970      Austria         Materials                 1\n",
       "Evonik Industries AG         EVK-DE    0.070107        6783.785563        209.700000   32.3500    2.223670      Germany         Materials                 1\n",
       "Entain PLC                   ENT-GB    0.088081        8523.030032        583.551148   14.6055    0.808256      United Kingdom  Consumer Discretionary    1\n",
       "Epiroc AB Class A            EPI.A-SE  0.121972        11802.473119       659.012683   17.9093    1.530020      Sweden          Industrials               1\n",
       "Epiroc AB Class B            EPI.B-SE  0.067875        6567.846262        389.972849   16.8418    0.665667      Sweden          Industrials               1\n",
       "                                                                                                                                                         ..\n",
       "Prosus N.V. Class N          PRX-NL    0.557638        53959.215839       487.395621   110.7090   1.361700      Netherlands     Consumer Discretionary    1\n",
       "Proximus SA de droit public  PROX-BE   0.032858        3179.476251        152.111311   20.9023   -0.467608      Belgium         Communication Services    1\n",
       "Prudential plc               PRU-GB    0.478677        46318.588866       2608.860447  17.7543    1.542920      United Kingdom  Financials                1\n",
       "Prysmian S.p.A.              PRY-IT    0.084257        8153.074620        241.329821   33.7840    1.246550      Italy           Industrials               1\n",
       "3i Group plc                 III-GB    0.153216        14825.767971       973.123905   15.2352    0.667554      United Kingdom  Financials                1\n",
       "Length: 434, dtype: int64"
      ]
     },
     "execution_count": 34,
     "metadata": {},
     "output_type": "execute_result"
    }
   ],
   "source": [
    "df.value_counts()"
   ]
  },
  {
   "cell_type": "code",
   "execution_count": 23,
   "metadata": {},
   "outputs": [
    {
     "data": {
      "text/plain": [
       "Name                 0\n",
       "Symbol               0\n",
       "% Index Weight       0\n",
       "Adj. Market Value    0\n",
       "Adj. Shares          0\n",
       "Price                0\n",
       "1 Day %Change        0\n",
       "Country              0\n",
       "Sector Name          0\n",
       "dtype: int64"
      ]
     },
     "execution_count": 23,
     "metadata": {},
     "output_type": "execute_result"
    }
   ],
   "source": [
    "# Check for NAs\n",
    "\n",
    "df.isna().sum(axis = 0)"
   ]
  },
  {
   "cell_type": "code",
   "execution_count": 24,
   "metadata": {},
   "outputs": [
    {
     "data": {
      "text/plain": [
       "Name                  object\n",
       "Symbol                object\n",
       "% Index Weight       float64\n",
       "Adj. Market Value    float64\n",
       "Adj. Shares           object\n",
       "Price                float64\n",
       "1 Day %Change        float64\n",
       "Country               object\n",
       "Sector Name           object\n",
       "dtype: object"
      ]
     },
     "execution_count": 24,
     "metadata": {},
     "output_type": "execute_result"
    }
   ],
   "source": [
    "# Check for feature's data types\n",
    "\n",
    "df.dtypes"
   ]
  },
  {
   "cell_type": "code",
   "execution_count": 26,
   "metadata": {},
   "outputs": [],
   "source": [
    "# Filter per Sector & Country features\n",
    "\n",
    "df_country_sector = df[['Country', 'Sector Name']]"
   ]
  },
  {
   "cell_type": "code",
   "execution_count": 27,
   "metadata": {},
   "outputs": [
    {
     "data": {
      "text/html": [
       "<div>\n",
       "<style scoped>\n",
       "    .dataframe tbody tr th:only-of-type {\n",
       "        vertical-align: middle;\n",
       "    }\n",
       "\n",
       "    .dataframe tbody tr th {\n",
       "        vertical-align: top;\n",
       "    }\n",
       "\n",
       "    .dataframe thead th {\n",
       "        text-align: right;\n",
       "    }\n",
       "</style>\n",
       "<table border=\"1\" class=\"dataframe\">\n",
       "  <thead>\n",
       "    <tr style=\"text-align: right;\">\n",
       "      <th></th>\n",
       "      <th>Country</th>\n",
       "      <th>Sector Name</th>\n",
       "    </tr>\n",
       "  </thead>\n",
       "  <tbody>\n",
       "    <tr>\n",
       "      <th>1</th>\n",
       "      <td>Germany</td>\n",
       "      <td>Industrials</td>\n",
       "    </tr>\n",
       "    <tr>\n",
       "      <th>2</th>\n",
       "      <td>Germany</td>\n",
       "      <td>Materials</td>\n",
       "    </tr>\n",
       "    <tr>\n",
       "      <th>3</th>\n",
       "      <td>Germany</td>\n",
       "      <td>Communication Services</td>\n",
       "    </tr>\n",
       "    <tr>\n",
       "      <th>4</th>\n",
       "      <td>Italy</td>\n",
       "      <td>Financials</td>\n",
       "    </tr>\n",
       "    <tr>\n",
       "      <th>5</th>\n",
       "      <td>Germany</td>\n",
       "      <td>Industrials</td>\n",
       "    </tr>\n",
       "  </tbody>\n",
       "</table>\n",
       "</div>"
      ],
      "text/plain": [
       "   Country             Sector Name\n",
       "1  Germany             Industrials\n",
       "2  Germany               Materials\n",
       "3  Germany  Communication Services\n",
       "4    Italy              Financials\n",
       "5  Germany             Industrials"
      ]
     },
     "execution_count": 27,
     "metadata": {},
     "output_type": "execute_result"
    }
   ],
   "source": [
    "df_country_sector.head()"
   ]
  },
  {
   "cell_type": "code",
   "execution_count": 41,
   "metadata": {},
   "outputs": [],
   "source": [
    "# Generate Dummy categorical variables for both Country & Sector\n",
    "\n",
    "df_dummies = pd.get_dummies(df_country_sector)\n",
    "df_dummies.index = df['Symbol']"
   ]
  },
  {
   "cell_type": "code",
   "execution_count": 42,
   "metadata": {},
   "outputs": [
    {
     "data": {
      "text/html": [
       "<div>\n",
       "<style scoped>\n",
       "    .dataframe tbody tr th:only-of-type {\n",
       "        vertical-align: middle;\n",
       "    }\n",
       "\n",
       "    .dataframe tbody tr th {\n",
       "        vertical-align: top;\n",
       "    }\n",
       "\n",
       "    .dataframe thead th {\n",
       "        text-align: right;\n",
       "    }\n",
       "</style>\n",
       "<table border=\"1\" class=\"dataframe\">\n",
       "  <thead>\n",
       "    <tr style=\"text-align: right;\">\n",
       "      <th></th>\n",
       "      <th>Country_Austria</th>\n",
       "      <th>Country_Belgium</th>\n",
       "      <th>Country_Denmark</th>\n",
       "      <th>Country_Finland</th>\n",
       "      <th>Country_France</th>\n",
       "      <th>Country_Germany</th>\n",
       "      <th>Country_Ireland</th>\n",
       "      <th>Country_Italy</th>\n",
       "      <th>Country_Netherlands</th>\n",
       "      <th>Country_Norway</th>\n",
       "      <th>...</th>\n",
       "      <th>Sector Name_Consumer Discretionary</th>\n",
       "      <th>Sector Name_Consumer Staples</th>\n",
       "      <th>Sector Name_Energy</th>\n",
       "      <th>Sector Name_Financials</th>\n",
       "      <th>Sector Name_Health Care</th>\n",
       "      <th>Sector Name_Industrials</th>\n",
       "      <th>Sector Name_Information Technology</th>\n",
       "      <th>Sector Name_Materials</th>\n",
       "      <th>Sector Name_Real Estate</th>\n",
       "      <th>Sector Name_Utilities</th>\n",
       "    </tr>\n",
       "    <tr>\n",
       "      <th>Symbol</th>\n",
       "      <th></th>\n",
       "      <th></th>\n",
       "      <th></th>\n",
       "      <th></th>\n",
       "      <th></th>\n",
       "      <th></th>\n",
       "      <th></th>\n",
       "      <th></th>\n",
       "      <th></th>\n",
       "      <th></th>\n",
       "      <th></th>\n",
       "      <th></th>\n",
       "      <th></th>\n",
       "      <th></th>\n",
       "      <th></th>\n",
       "      <th></th>\n",
       "      <th></th>\n",
       "      <th></th>\n",
       "      <th></th>\n",
       "      <th></th>\n",
       "      <th></th>\n",
       "    </tr>\n",
       "  </thead>\n",
       "  <tbody>\n",
       "    <tr>\n",
       "      <th>BNR-DE</th>\n",
       "      <td>0</td>\n",
       "      <td>0</td>\n",
       "      <td>0</td>\n",
       "      <td>0</td>\n",
       "      <td>0</td>\n",
       "      <td>1</td>\n",
       "      <td>0</td>\n",
       "      <td>0</td>\n",
       "      <td>0</td>\n",
       "      <td>0</td>\n",
       "      <td>...</td>\n",
       "      <td>0</td>\n",
       "      <td>0</td>\n",
       "      <td>0</td>\n",
       "      <td>0</td>\n",
       "      <td>0</td>\n",
       "      <td>1</td>\n",
       "      <td>0</td>\n",
       "      <td>0</td>\n",
       "      <td>0</td>\n",
       "      <td>0</td>\n",
       "    </tr>\n",
       "    <tr>\n",
       "      <th>LXS-DE</th>\n",
       "      <td>0</td>\n",
       "      <td>0</td>\n",
       "      <td>0</td>\n",
       "      <td>0</td>\n",
       "      <td>0</td>\n",
       "      <td>1</td>\n",
       "      <td>0</td>\n",
       "      <td>0</td>\n",
       "      <td>0</td>\n",
       "      <td>0</td>\n",
       "      <td>...</td>\n",
       "      <td>0</td>\n",
       "      <td>0</td>\n",
       "      <td>0</td>\n",
       "      <td>0</td>\n",
       "      <td>0</td>\n",
       "      <td>0</td>\n",
       "      <td>0</td>\n",
       "      <td>1</td>\n",
       "      <td>0</td>\n",
       "      <td>0</td>\n",
       "    </tr>\n",
       "    <tr>\n",
       "      <th>O2D-DE</th>\n",
       "      <td>0</td>\n",
       "      <td>0</td>\n",
       "      <td>0</td>\n",
       "      <td>0</td>\n",
       "      <td>0</td>\n",
       "      <td>1</td>\n",
       "      <td>0</td>\n",
       "      <td>0</td>\n",
       "      <td>0</td>\n",
       "      <td>0</td>\n",
       "      <td>...</td>\n",
       "      <td>0</td>\n",
       "      <td>0</td>\n",
       "      <td>0</td>\n",
       "      <td>0</td>\n",
       "      <td>0</td>\n",
       "      <td>0</td>\n",
       "      <td>0</td>\n",
       "      <td>0</td>\n",
       "      <td>0</td>\n",
       "      <td>0</td>\n",
       "    </tr>\n",
       "    <tr>\n",
       "      <th>EXO-IT</th>\n",
       "      <td>0</td>\n",
       "      <td>0</td>\n",
       "      <td>0</td>\n",
       "      <td>0</td>\n",
       "      <td>0</td>\n",
       "      <td>0</td>\n",
       "      <td>0</td>\n",
       "      <td>1</td>\n",
       "      <td>0</td>\n",
       "      <td>0</td>\n",
       "      <td>...</td>\n",
       "      <td>0</td>\n",
       "      <td>0</td>\n",
       "      <td>0</td>\n",
       "      <td>1</td>\n",
       "      <td>0</td>\n",
       "      <td>0</td>\n",
       "      <td>0</td>\n",
       "      <td>0</td>\n",
       "      <td>0</td>\n",
       "      <td>0</td>\n",
       "    </tr>\n",
       "    <tr>\n",
       "      <th>MTX-DE</th>\n",
       "      <td>0</td>\n",
       "      <td>0</td>\n",
       "      <td>0</td>\n",
       "      <td>0</td>\n",
       "      <td>0</td>\n",
       "      <td>1</td>\n",
       "      <td>0</td>\n",
       "      <td>0</td>\n",
       "      <td>0</td>\n",
       "      <td>0</td>\n",
       "      <td>...</td>\n",
       "      <td>0</td>\n",
       "      <td>0</td>\n",
       "      <td>0</td>\n",
       "      <td>0</td>\n",
       "      <td>0</td>\n",
       "      <td>1</td>\n",
       "      <td>0</td>\n",
       "      <td>0</td>\n",
       "      <td>0</td>\n",
       "      <td>0</td>\n",
       "    </tr>\n",
       "  </tbody>\n",
       "</table>\n",
       "<p>5 rows × 26 columns</p>\n",
       "</div>"
      ],
      "text/plain": [
       "        Country_Austria  Country_Belgium  Country_Denmark  Country_Finland  \\\n",
       "Symbol                                                                       \n",
       "BNR-DE                0                0                0                0   \n",
       "LXS-DE                0                0                0                0   \n",
       "O2D-DE                0                0                0                0   \n",
       "EXO-IT                0                0                0                0   \n",
       "MTX-DE                0                0                0                0   \n",
       "\n",
       "        Country_France  Country_Germany  Country_Ireland  Country_Italy  \\\n",
       "Symbol                                                                    \n",
       "BNR-DE               0                1                0              0   \n",
       "LXS-DE               0                1                0              0   \n",
       "O2D-DE               0                1                0              0   \n",
       "EXO-IT               0                0                0              1   \n",
       "MTX-DE               0                1                0              0   \n",
       "\n",
       "        Country_Netherlands  Country_Norway  ...  \\\n",
       "Symbol                                       ...   \n",
       "BNR-DE                    0               0  ...   \n",
       "LXS-DE                    0               0  ...   \n",
       "O2D-DE                    0               0  ...   \n",
       "EXO-IT                    0               0  ...   \n",
       "MTX-DE                    0               0  ...   \n",
       "\n",
       "        Sector Name_Consumer Discretionary  Sector Name_Consumer Staples  \\\n",
       "Symbol                                                                     \n",
       "BNR-DE                                   0                             0   \n",
       "LXS-DE                                   0                             0   \n",
       "O2D-DE                                   0                             0   \n",
       "EXO-IT                                   0                             0   \n",
       "MTX-DE                                   0                             0   \n",
       "\n",
       "        Sector Name_Energy  Sector Name_Financials  Sector Name_Health Care  \\\n",
       "Symbol                                                                        \n",
       "BNR-DE                   0                       0                        0   \n",
       "LXS-DE                   0                       0                        0   \n",
       "O2D-DE                   0                       0                        0   \n",
       "EXO-IT                   0                       1                        0   \n",
       "MTX-DE                   0                       0                        0   \n",
       "\n",
       "        Sector Name_Industrials  Sector Name_Information Technology  \\\n",
       "Symbol                                                                \n",
       "BNR-DE                        1                                   0   \n",
       "LXS-DE                        0                                   0   \n",
       "O2D-DE                        0                                   0   \n",
       "EXO-IT                        0                                   0   \n",
       "MTX-DE                        1                                   0   \n",
       "\n",
       "        Sector Name_Materials  Sector Name_Real Estate  Sector Name_Utilities  \n",
       "Symbol                                                                         \n",
       "BNR-DE                      0                        0                      0  \n",
       "LXS-DE                      1                        0                      0  \n",
       "O2D-DE                      0                        0                      0  \n",
       "EXO-IT                      0                        0                      0  \n",
       "MTX-DE                      0                        0                      0  \n",
       "\n",
       "[5 rows x 26 columns]"
      ]
     },
     "execution_count": 42,
     "metadata": {},
     "output_type": "execute_result"
    }
   ],
   "source": [
    "df_dummies.head()"
   ]
  },
  {
   "cell_type": "code",
   "execution_count": 43,
   "metadata": {
    "scrolled": true
   },
   "outputs": [
    {
     "data": {
      "text/plain": [
       "Symbol\n",
       "BNR-DE     2\n",
       "LXS-DE     2\n",
       "O2D-DE     2\n",
       "EXO-IT     2\n",
       "MTX-DE     2\n",
       "          ..\n",
       "BCVN-CH    2\n",
       "PRX-NL     2\n",
       "FDJ-FR     2\n",
       "ENR-DE     2\n",
       "JDEP-NL    2\n",
       "Length: 434, dtype: int64"
      ]
     },
     "execution_count": 43,
     "metadata": {},
     "output_type": "execute_result"
    }
   ],
   "source": [
    "df_dummies.sum(axis = 1) # Two dummies per row -> Multicollinearity"
   ]
  },
  {
   "attachments": {
    "image-2.png": {
     "image/png": "[encoded data removed]"
    },
    "image.png": {
     "image/png": "[encoded data removed]"
    }
   },
   "cell_type": "markdown",
   "metadata": {},
   "source": [
    "## Set Constrained Regression\n",
    "\n",
    "The model assumes that the stock return $R_{it}$ can be decomposed into factors associated with its **industry** affiliation, indexd by $j$, and **country** affiliation, indexed by $k$,\n",
    "\n",
    "![image.png](attachment:image.png) *(1)*\n",
    "\n",
    "Here, $I_{ij}$ and $C_{ik}$ are dummy variables equal to **1** if stock $i$ belongs to industry $j$ and country $k$, respectively. $\\beta_{jt}$ and $\\gamma_{kt}$ are the respective industry- and country-specific effects: shocks that impact all firms within a given industry or within a given country. In addition to country and industry effects, $\\alpha_{t}$ represents an effect relevant to all securities, which can be interpreted as a global effet, and $e_{it}$ represents the effects specific to firm $i$. In order to empirically identify the country and industry components of the model, additional constraints need to be imposed. The following restrictions need to be imposed for each cross-sectional regression at each point in time:\n",
    "\n",
    "![image-2.png](attachment:image-2.png)\n",
    "\n",
    "where $w_{jt}$ and $v_{kt}$ are the beginning-of-period market capitalisation weights of industry $j$ and country $k$ respectively. These are market capitalisation weights which sum to one: $\\sum \\limits_{j=1}^{J} w_{jt} = 1$ and $\\sum \\limits_{k=1}^{K} v_{jt} = 1$. These restrictions allow for the estimation of equation *(1)*, where this approach is equivalent to measuring country and industry effects relative to a market capitalisation-weighted benchmark. When imposing these restrictions on the model, estimated using *weighted least squares*, the $\\alpha_{t}$ term in equation *(1)* is equal to the return on the value-weighted global portfolio. In other words, the restrictions imply that the value-weighted global portfolio has no country or industry effects, and country and industry effects are expressed relative to the global portfolio."
   ]
  },
  {
   "cell_type": "code",
   "execution_count": 57,
   "metadata": {},
   "outputs": [
    {
     "data": {
      "text/plain": [
       "Sector Name\n",
       "Communication Services     3.976059\n",
       "Consumer Discretionary    11.514235\n",
       "Consumer Staples          13.391256\n",
       "Energy                     4.534904\n",
       "Financials                15.756596\n",
       "Health Care               14.366104\n",
       "Industrials               14.492600\n",
       "Information Technology     7.431812\n",
       "Materials                  8.232914\n",
       "Real Estate                1.430367\n",
       "Utilities                  4.873153\n",
       "Name: % Index Weight, dtype: float64"
      ]
     },
     "execution_count": 57,
     "metadata": {},
     "output_type": "execute_result"
    }
   ],
   "source": [
    "# Calculate Sector Weights\n",
    "\n",
    "sector_weights = df.groupby(['Sector Name']).sum()['% Index Weight']\n",
    "sector_weights"
   ]
  },
  {
   "cell_type": "code",
   "execution_count": 58,
   "metadata": {},
   "outputs": [
    {
     "data": {
      "text/plain": [
       "Country\n",
       "Austria            0.276389\n",
       "Belgium            1.627028\n",
       "Denmark            3.919708\n",
       "Finland            1.705028\n",
       "France            17.935065\n",
       "Germany           14.875075\n",
       "Ireland            1.157810\n",
       "Italy              3.808700\n",
       "Netherlands        6.148901\n",
       "Norway             0.926524\n",
       "Portugal           0.266325\n",
       "Spain              4.010908\n",
       "Sweden             5.399363\n",
       "Switzerland       15.200831\n",
       "United Kingdom    22.742347\n",
       "Name: % Index Weight, dtype: float64"
      ]
     },
     "execution_count": 58,
     "metadata": {},
     "output_type": "execute_result"
    }
   ],
   "source": [
    "# Calculate Country Weights\n",
    "\n",
    "country_weights = df.groupby(['Country']).sum()['% Index Weight']\n",
    "country_weights"
   ]
  },
  {
   "cell_type": "code",
   "execution_count": 59,
   "metadata": {},
   "outputs": [
    {
     "data": {
      "text/plain": [
       "100.0"
      ]
     },
     "execution_count": 59,
     "metadata": {},
     "output_type": "execute_result"
    }
   ],
   "source": [
    "country_weights.sum()"
   ]
  },
  {
   "cell_type": "code",
   "execution_count": 61,
   "metadata": {},
   "outputs": [
    {
     "data": {
      "text/plain": [
       "99.99999999999997"
      ]
     },
     "execution_count": 61,
     "metadata": {},
     "output_type": "execute_result"
    }
   ],
   "source": [
    "sector_weights.sum()"
   ]
  },
  {
   "cell_type": "code",
   "execution_count": null,
   "metadata": {},
   "outputs": [],
   "source": []
  }
 ],
 "metadata": {
  "kernelspec": {
   "display_name": "Python 3",
   "language": "python",
   "name": "python3"
  },
  "language_info": {
   "codemirror_mode": {
    "name": "ipython",
    "version": 3
   },
   "file_extension": ".py",
   "mimetype": "text/x-python",
   "name": "python",
   "nbconvert_exporter": "python",
   "pygments_lexer": "ipython3",
   "version": "3.8.5"
  }
 },
 "nbformat": 4,
 "nbformat_minor": 4
}
