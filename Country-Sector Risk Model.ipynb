{
 "cells": [
  {
   "cell_type": "code",
   "execution_count": 9,
   "metadata": {},
   "outputs": [],
   "source": [
    "import pandas as pd\n",
    "import numpy as np\n",
    "import statsmodels.api as sm\n",
    "import cvxpy as cp"
   ]
  },
  {
   "cell_type": "code",
   "execution_count": 10,
   "metadata": {},
   "outputs": [
    {
     "data": {
      "text/html": [
       "<div>\n",
       "<style scoped>\n",
       "    .dataframe tbody tr th:only-of-type {\n",
       "        vertical-align: middle;\n",
       "    }\n",
       "\n",
       "    .dataframe tbody tr th {\n",
       "        vertical-align: top;\n",
       "    }\n",
       "\n",
       "    .dataframe thead th {\n",
       "        text-align: right;\n",
       "    }\n",
       "</style>\n",
       "<table border=\"1\" class=\"dataframe\">\n",
       "  <thead>\n",
       "    <tr style=\"text-align: right;\">\n",
       "      <th></th>\n",
       "      <th>Name</th>\n",
       "      <th>Symbol</th>\n",
       "      <th>% Index Weight</th>\n",
       "      <th>Adj. Market Value</th>\n",
       "      <th>Adj. Shares</th>\n",
       "      <th>Price</th>\n",
       "      <th>1 Day %Change</th>\n",
       "      <th>Country</th>\n",
       "      <th>Sector Name</th>\n",
       "    </tr>\n",
       "  </thead>\n",
       "  <tbody>\n",
       "    <tr>\n",
       "      <th>0</th>\n",
       "      <td>MSCI Europe</td>\n",
       "      <td>EU000U-MSX</td>\n",
       "      <td>100.000000</td>\n",
       "      <td>9.676385e+06</td>\n",
       "      <td>-</td>\n",
       "      <td>1803.145077</td>\n",
       "      <td>0.461555</td>\n",
       "      <td>NaN</td>\n",
       "      <td>NaN</td>\n",
       "    </tr>\n",
       "    <tr>\n",
       "      <th>1</th>\n",
       "      <td>Brenntag AG</td>\n",
       "      <td>BNR-DE</td>\n",
       "      <td>0.123562</td>\n",
       "      <td>1.195631e+04</td>\n",
       "      <td>154.5</td>\n",
       "      <td>77.387100</td>\n",
       "      <td>0.764807</td>\n",
       "      <td>Germany</td>\n",
       "      <td>Industrials</td>\n",
       "    </tr>\n",
       "    <tr>\n",
       "      <th>2</th>\n",
       "      <td>LANXESS AG</td>\n",
       "      <td>LXS-DE</td>\n",
       "      <td>0.064291</td>\n",
       "      <td>6.220998e+03</td>\n",
       "      <td>83.0755</td>\n",
       "      <td>74.883700</td>\n",
       "      <td>1.678890</td>\n",
       "      <td>Germany</td>\n",
       "      <td>Materials</td>\n",
       "    </tr>\n",
       "    <tr>\n",
       "      <th>3</th>\n",
       "      <td>Telefonica Deutschland Holding AG</td>\n",
       "      <td>O2D-DE</td>\n",
       "      <td>0.029262</td>\n",
       "      <td>2.831495e+03</td>\n",
       "      <td>1041.09</td>\n",
       "      <td>2.719730</td>\n",
       "      <td>-1.316500</td>\n",
       "      <td>Germany</td>\n",
       "      <td>Communication Services</td>\n",
       "    </tr>\n",
       "    <tr>\n",
       "      <th>4</th>\n",
       "      <td>EXOR N.V.</td>\n",
       "      <td>EXO-IT</td>\n",
       "      <td>0.082157</td>\n",
       "      <td>7.949806e+03</td>\n",
       "      <td>108.45</td>\n",
       "      <td>73.303900</td>\n",
       "      <td>1.369560</td>\n",
       "      <td>Italy</td>\n",
       "      <td>Financials</td>\n",
       "    </tr>\n",
       "  </tbody>\n",
       "</table>\n",
       "</div>"
      ],
      "text/plain": [
       "                                Name      Symbol  % Index Weight  \\\n",
       "0                        MSCI Europe  EU000U-MSX      100.000000   \n",
       "1                        Brenntag AG      BNR-DE        0.123562   \n",
       "2                         LANXESS AG      LXS-DE        0.064291   \n",
       "3  Telefonica Deutschland Holding AG      O2D-DE        0.029262   \n",
       "4                          EXOR N.V.      EXO-IT        0.082157   \n",
       "\n",
       "   Adj. Market Value Adj. Shares        Price  1 Day %Change  Country  \\\n",
       "0       9.676385e+06           -  1803.145077       0.461555      NaN   \n",
       "1       1.195631e+04       154.5    77.387100       0.764807  Germany   \n",
       "2       6.220998e+03     83.0755    74.883700       1.678890  Germany   \n",
       "3       2.831495e+03     1041.09     2.719730      -1.316500  Germany   \n",
       "4       7.949806e+03      108.45    73.303900       1.369560    Italy   \n",
       "\n",
       "              Sector Name  \n",
       "0                     NaN  \n",
       "1             Industrials  \n",
       "2               Materials  \n",
       "3  Communication Services  \n",
       "4              Financials  "
      ]
     },
     "execution_count": 10,
     "metadata": {},
     "output_type": "execute_result"
    }
   ],
   "source": [
    "# Import MSCI Europe.xslx\n",
    "\n",
    "df = pd.read_excel(\"MSCI_EUROPE.xlsx\")\n",
    "\n",
    "df.head()"
   ]
  },
  {
   "cell_type": "code",
   "execution_count": 11,
   "metadata": {},
   "outputs": [],
   "source": [
    "# Discard first row referring to MSCI Europe index\n",
    "\n",
    "df = df.loc[1:]"
   ]
  },
  {
   "cell_type": "code",
   "execution_count": 14,
   "metadata": {},
   "outputs": [
    {
     "data": {
      "text/html": [
       "<div>\n",
       "<style scoped>\n",
       "    .dataframe tbody tr th:only-of-type {\n",
       "        vertical-align: middle;\n",
       "    }\n",
       "\n",
       "    .dataframe tbody tr th {\n",
       "        vertical-align: top;\n",
       "    }\n",
       "\n",
       "    .dataframe thead th {\n",
       "        text-align: right;\n",
       "    }\n",
       "</style>\n",
       "<table border=\"1\" class=\"dataframe\">\n",
       "  <thead>\n",
       "    <tr style=\"text-align: right;\">\n",
       "      <th></th>\n",
       "      <th>% Index Weight</th>\n",
       "      <th>Adj. Market Value</th>\n",
       "      <th>Price</th>\n",
       "      <th>1 Day %Change</th>\n",
       "    </tr>\n",
       "  </thead>\n",
       "  <tbody>\n",
       "    <tr>\n",
       "      <th>count</th>\n",
       "      <td>434.000000</td>\n",
       "      <td>434.000000</td>\n",
       "      <td>434.000000</td>\n",
       "      <td>434.000000</td>\n",
       "    </tr>\n",
       "    <tr>\n",
       "      <th>mean</th>\n",
       "      <td>0.230415</td>\n",
       "      <td>22295.817750</td>\n",
       "      <td>365.795220</td>\n",
       "      <td>0.655385</td>\n",
       "    </tr>\n",
       "    <tr>\n",
       "      <th>std</th>\n",
       "      <td>0.331483</td>\n",
       "      <td>32075.567298</td>\n",
       "      <td>4640.770395</td>\n",
       "      <td>1.714351</td>\n",
       "    </tr>\n",
       "    <tr>\n",
       "      <th>min</th>\n",
       "      <td>0.023608</td>\n",
       "      <td>2284.393163</td>\n",
       "      <td>0.469451</td>\n",
       "      <td>-5.299480</td>\n",
       "    </tr>\n",
       "    <tr>\n",
       "      <th>25%</th>\n",
       "      <td>0.069040</td>\n",
       "      <td>6680.538579</td>\n",
       "      <td>17.418425</td>\n",
       "      <td>-0.452397</td>\n",
       "    </tr>\n",
       "    <tr>\n",
       "      <th>50%</th>\n",
       "      <td>0.115826</td>\n",
       "      <td>11207.800333</td>\n",
       "      <td>42.251400</td>\n",
       "      <td>0.734912</td>\n",
       "    </tr>\n",
       "    <tr>\n",
       "      <th>75%</th>\n",
       "      <td>0.251782</td>\n",
       "      <td>24363.415329</td>\n",
       "      <td>98.680825</td>\n",
       "      <td>1.647518</td>\n",
       "    </tr>\n",
       "    <tr>\n",
       "      <th>max</th>\n",
       "      <td>3.346350</td>\n",
       "      <td>323805.742652</td>\n",
       "      <td>96124.600000</td>\n",
       "      <td>7.861490</td>\n",
       "    </tr>\n",
       "  </tbody>\n",
       "</table>\n",
       "</div>"
      ],
      "text/plain": [
       "       % Index Weight  Adj. Market Value         Price  1 Day %Change\n",
       "count      434.000000         434.000000    434.000000     434.000000\n",
       "mean         0.230415       22295.817750    365.795220       0.655385\n",
       "std          0.331483       32075.567298   4640.770395       1.714351\n",
       "min          0.023608        2284.393163      0.469451      -5.299480\n",
       "25%          0.069040        6680.538579     17.418425      -0.452397\n",
       "50%          0.115826       11207.800333     42.251400       0.734912\n",
       "75%          0.251782       24363.415329     98.680825       1.647518\n",
       "max          3.346350      323805.742652  96124.600000       7.861490"
      ]
     },
     "execution_count": 14,
     "metadata": {},
     "output_type": "execute_result"
    }
   ],
   "source": [
    "df.describe()"
   ]
  },
  {
   "cell_type": "code",
   "execution_count": 23,
   "metadata": {},
   "outputs": [],
   "source": [
    "# pd.value_counts(df)"
   ]
  },
  {
   "cell_type": "code",
   "execution_count": 24,
   "metadata": {},
   "outputs": [
    {
     "data": {
      "text/plain": [
       "Name                 0\n",
       "Symbol               0\n",
       "% Index Weight       0\n",
       "Adj. Market Value    0\n",
       "Adj. Shares          0\n",
       "Price                0\n",
       "1 Day %Change        0\n",
       "Country              0\n",
       "Sector Name          0\n",
       "dtype: int64"
      ]
     },
     "execution_count": 24,
     "metadata": {},
     "output_type": "execute_result"
    }
   ],
   "source": [
    "# Check for NAs\n",
    "\n",
    "df.isna().sum(axis = 0)"
   ]
  },
  {
   "cell_type": "code",
   "execution_count": 25,
   "metadata": {},
   "outputs": [
    {
     "data": {
      "text/plain": [
       "Name                  object\n",
       "Symbol                object\n",
       "% Index Weight       float64\n",
       "Adj. Market Value    float64\n",
       "Adj. Shares           object\n",
       "Price                float64\n",
       "1 Day %Change        float64\n",
       "Country               object\n",
       "Sector Name           object\n",
       "dtype: object"
      ]
     },
     "execution_count": 25,
     "metadata": {},
     "output_type": "execute_result"
    }
   ],
   "source": [
    "# Check for feature's data types\n",
    "\n",
    "df.dtypes"
   ]
  },
  {
   "cell_type": "code",
   "execution_count": 26,
   "metadata": {},
   "outputs": [],
   "source": [
    "# Filter per Sector & Country features\n",
    "\n",
    "df_country_sector = df[['Country', 'Sector Name']]"
   ]
  },
  {
   "cell_type": "code",
   "execution_count": 27,
   "metadata": {},
   "outputs": [
    {
     "data": {
      "text/html": [
       "<div>\n",
       "<style scoped>\n",
       "    .dataframe tbody tr th:only-of-type {\n",
       "        vertical-align: middle;\n",
       "    }\n",
       "\n",
       "    .dataframe tbody tr th {\n",
       "        vertical-align: top;\n",
       "    }\n",
       "\n",
       "    .dataframe thead th {\n",
       "        text-align: right;\n",
       "    }\n",
       "</style>\n",
       "<table border=\"1\" class=\"dataframe\">\n",
       "  <thead>\n",
       "    <tr style=\"text-align: right;\">\n",
       "      <th></th>\n",
       "      <th>Country</th>\n",
       "      <th>Sector Name</th>\n",
       "    </tr>\n",
       "  </thead>\n",
       "  <tbody>\n",
       "    <tr>\n",
       "      <th>1</th>\n",
       "      <td>Germany</td>\n",
       "      <td>Industrials</td>\n",
       "    </tr>\n",
       "    <tr>\n",
       "      <th>2</th>\n",
       "      <td>Germany</td>\n",
       "      <td>Materials</td>\n",
       "    </tr>\n",
       "    <tr>\n",
       "      <th>3</th>\n",
       "      <td>Germany</td>\n",
       "      <td>Communication Services</td>\n",
       "    </tr>\n",
       "    <tr>\n",
       "      <th>4</th>\n",
       "      <td>Italy</td>\n",
       "      <td>Financials</td>\n",
       "    </tr>\n",
       "    <tr>\n",
       "      <th>5</th>\n",
       "      <td>Germany</td>\n",
       "      <td>Industrials</td>\n",
       "    </tr>\n",
       "  </tbody>\n",
       "</table>\n",
       "</div>"
      ],
      "text/plain": [
       "   Country             Sector Name\n",
       "1  Germany             Industrials\n",
       "2  Germany               Materials\n",
       "3  Germany  Communication Services\n",
       "4    Italy              Financials\n",
       "5  Germany             Industrials"
      ]
     },
     "execution_count": 27,
     "metadata": {},
     "output_type": "execute_result"
    }
   ],
   "source": [
    "df_country_sector.head()"
   ]
  },
  {
   "cell_type": "code",
   "execution_count": 28,
   "metadata": {},
   "outputs": [],
   "source": [
    "# Generate Dummy categorical variables for both Country & Sector\n",
    "\n",
    "df_dummies = pd.get_dummies(df_country_sector)\n",
    "df_dummies.index = df['Symbol']"
   ]
  },
  {
   "cell_type": "code",
   "execution_count": 29,
   "metadata": {},
   "outputs": [
    {
     "data": {
      "text/html": [
       "<div>\n",
       "<style scoped>\n",
       "    .dataframe tbody tr th:only-of-type {\n",
       "        vertical-align: middle;\n",
       "    }\n",
       "\n",
       "    .dataframe tbody tr th {\n",
       "        vertical-align: top;\n",
       "    }\n",
       "\n",
       "    .dataframe thead th {\n",
       "        text-align: right;\n",
       "    }\n",
       "</style>\n",
       "<table border=\"1\" class=\"dataframe\">\n",
       "  <thead>\n",
       "    <tr style=\"text-align: right;\">\n",
       "      <th></th>\n",
       "      <th>Country_Austria</th>\n",
       "      <th>Country_Belgium</th>\n",
       "      <th>Country_Denmark</th>\n",
       "      <th>Country_Finland</th>\n",
       "      <th>Country_France</th>\n",
       "      <th>Country_Germany</th>\n",
       "      <th>Country_Ireland</th>\n",
       "      <th>Country_Italy</th>\n",
       "      <th>Country_Netherlands</th>\n",
       "      <th>Country_Norway</th>\n",
       "      <th>...</th>\n",
       "      <th>Sector Name_Consumer Discretionary</th>\n",
       "      <th>Sector Name_Consumer Staples</th>\n",
       "      <th>Sector Name_Energy</th>\n",
       "      <th>Sector Name_Financials</th>\n",
       "      <th>Sector Name_Health Care</th>\n",
       "      <th>Sector Name_Industrials</th>\n",
       "      <th>Sector Name_Information Technology</th>\n",
       "      <th>Sector Name_Materials</th>\n",
       "      <th>Sector Name_Real Estate</th>\n",
       "      <th>Sector Name_Utilities</th>\n",
       "    </tr>\n",
       "    <tr>\n",
       "      <th>Symbol</th>\n",
       "      <th></th>\n",
       "      <th></th>\n",
       "      <th></th>\n",
       "      <th></th>\n",
       "      <th></th>\n",
       "      <th></th>\n",
       "      <th></th>\n",
       "      <th></th>\n",
       "      <th></th>\n",
       "      <th></th>\n",
       "      <th></th>\n",
       "      <th></th>\n",
       "      <th></th>\n",
       "      <th></th>\n",
       "      <th></th>\n",
       "      <th></th>\n",
       "      <th></th>\n",
       "      <th></th>\n",
       "      <th></th>\n",
       "      <th></th>\n",
       "      <th></th>\n",
       "    </tr>\n",
       "  </thead>\n",
       "  <tbody>\n",
       "    <tr>\n",
       "      <th>BNR-DE</th>\n",
       "      <td>0</td>\n",
       "      <td>0</td>\n",
       "      <td>0</td>\n",
       "      <td>0</td>\n",
       "      <td>0</td>\n",
       "      <td>1</td>\n",
       "      <td>0</td>\n",
       "      <td>0</td>\n",
       "      <td>0</td>\n",
       "      <td>0</td>\n",
       "      <td>...</td>\n",
       "      <td>0</td>\n",
       "      <td>0</td>\n",
       "      <td>0</td>\n",
       "      <td>0</td>\n",
       "      <td>0</td>\n",
       "      <td>1</td>\n",
       "      <td>0</td>\n",
       "      <td>0</td>\n",
       "      <td>0</td>\n",
       "      <td>0</td>\n",
       "    </tr>\n",
       "    <tr>\n",
       "      <th>LXS-DE</th>\n",
       "      <td>0</td>\n",
       "      <td>0</td>\n",
       "      <td>0</td>\n",
       "      <td>0</td>\n",
       "      <td>0</td>\n",
       "      <td>1</td>\n",
       "      <td>0</td>\n",
       "      <td>0</td>\n",
       "      <td>0</td>\n",
       "      <td>0</td>\n",
       "      <td>...</td>\n",
       "      <td>0</td>\n",
       "      <td>0</td>\n",
       "      <td>0</td>\n",
       "      <td>0</td>\n",
       "      <td>0</td>\n",
       "      <td>0</td>\n",
       "      <td>0</td>\n",
       "      <td>1</td>\n",
       "      <td>0</td>\n",
       "      <td>0</td>\n",
       "    </tr>\n",
       "    <tr>\n",
       "      <th>O2D-DE</th>\n",
       "      <td>0</td>\n",
       "      <td>0</td>\n",
       "      <td>0</td>\n",
       "      <td>0</td>\n",
       "      <td>0</td>\n",
       "      <td>1</td>\n",
       "      <td>0</td>\n",
       "      <td>0</td>\n",
       "      <td>0</td>\n",
       "      <td>0</td>\n",
       "      <td>...</td>\n",
       "      <td>0</td>\n",
       "      <td>0</td>\n",
       "      <td>0</td>\n",
       "      <td>0</td>\n",
       "      <td>0</td>\n",
       "      <td>0</td>\n",
       "      <td>0</td>\n",
       "      <td>0</td>\n",
       "      <td>0</td>\n",
       "      <td>0</td>\n",
       "    </tr>\n",
       "    <tr>\n",
       "      <th>EXO-IT</th>\n",
       "      <td>0</td>\n",
       "      <td>0</td>\n",
       "      <td>0</td>\n",
       "      <td>0</td>\n",
       "      <td>0</td>\n",
       "      <td>0</td>\n",
       "      <td>0</td>\n",
       "      <td>1</td>\n",
       "      <td>0</td>\n",
       "      <td>0</td>\n",
       "      <td>...</td>\n",
       "      <td>0</td>\n",
       "      <td>0</td>\n",
       "      <td>0</td>\n",
       "      <td>1</td>\n",
       "      <td>0</td>\n",
       "      <td>0</td>\n",
       "      <td>0</td>\n",
       "      <td>0</td>\n",
       "      <td>0</td>\n",
       "      <td>0</td>\n",
       "    </tr>\n",
       "    <tr>\n",
       "      <th>MTX-DE</th>\n",
       "      <td>0</td>\n",
       "      <td>0</td>\n",
       "      <td>0</td>\n",
       "      <td>0</td>\n",
       "      <td>0</td>\n",
       "      <td>1</td>\n",
       "      <td>0</td>\n",
       "      <td>0</td>\n",
       "      <td>0</td>\n",
       "      <td>0</td>\n",
       "      <td>...</td>\n",
       "      <td>0</td>\n",
       "      <td>0</td>\n",
       "      <td>0</td>\n",
       "      <td>0</td>\n",
       "      <td>0</td>\n",
       "      <td>1</td>\n",
       "      <td>0</td>\n",
       "      <td>0</td>\n",
       "      <td>0</td>\n",
       "      <td>0</td>\n",
       "    </tr>\n",
       "  </tbody>\n",
       "</table>\n",
       "<p>5 rows × 26 columns</p>\n",
       "</div>"
      ],
      "text/plain": [
       "        Country_Austria  Country_Belgium  Country_Denmark  Country_Finland  \\\n",
       "Symbol                                                                       \n",
       "BNR-DE                0                0                0                0   \n",
       "LXS-DE                0                0                0                0   \n",
       "O2D-DE                0                0                0                0   \n",
       "EXO-IT                0                0                0                0   \n",
       "MTX-DE                0                0                0                0   \n",
       "\n",
       "        Country_France  Country_Germany  Country_Ireland  Country_Italy  \\\n",
       "Symbol                                                                    \n",
       "BNR-DE               0                1                0              0   \n",
       "LXS-DE               0                1                0              0   \n",
       "O2D-DE               0                1                0              0   \n",
       "EXO-IT               0                0                0              1   \n",
       "MTX-DE               0                1                0              0   \n",
       "\n",
       "        Country_Netherlands  Country_Norway  ...  \\\n",
       "Symbol                                       ...   \n",
       "BNR-DE                    0               0  ...   \n",
       "LXS-DE                    0               0  ...   \n",
       "O2D-DE                    0               0  ...   \n",
       "EXO-IT                    0               0  ...   \n",
       "MTX-DE                    0               0  ...   \n",
       "\n",
       "        Sector Name_Consumer Discretionary  Sector Name_Consumer Staples  \\\n",
       "Symbol                                                                     \n",
       "BNR-DE                                   0                             0   \n",
       "LXS-DE                                   0                             0   \n",
       "O2D-DE                                   0                             0   \n",
       "EXO-IT                                   0                             0   \n",
       "MTX-DE                                   0                             0   \n",
       "\n",
       "        Sector Name_Energy  Sector Name_Financials  Sector Name_Health Care  \\\n",
       "Symbol                                                                        \n",
       "BNR-DE                   0                       0                        0   \n",
       "LXS-DE                   0                       0                        0   \n",
       "O2D-DE                   0                       0                        0   \n",
       "EXO-IT                   0                       1                        0   \n",
       "MTX-DE                   0                       0                        0   \n",
       "\n",
       "        Sector Name_Industrials  Sector Name_Information Technology  \\\n",
       "Symbol                                                                \n",
       "BNR-DE                        1                                   0   \n",
       "LXS-DE                        0                                   0   \n",
       "O2D-DE                        0                                   0   \n",
       "EXO-IT                        0                                   0   \n",
       "MTX-DE                        1                                   0   \n",
       "\n",
       "        Sector Name_Materials  Sector Name_Real Estate  Sector Name_Utilities  \n",
       "Symbol                                                                         \n",
       "BNR-DE                      0                        0                      0  \n",
       "LXS-DE                      1                        0                      0  \n",
       "O2D-DE                      0                        0                      0  \n",
       "EXO-IT                      0                        0                      0  \n",
       "MTX-DE                      0                        0                      0  \n",
       "\n",
       "[5 rows x 26 columns]"
      ]
     },
     "execution_count": 29,
     "metadata": {},
     "output_type": "execute_result"
    }
   ],
   "source": [
    "df_dummies.head()"
   ]
  },
  {
   "cell_type": "code",
   "execution_count": 455,
   "metadata": {
    "scrolled": true
   },
   "outputs": [
    {
     "data": {
      "text/plain": [
       "Symbol\n",
       "BNR-DE    2\n",
       "LXS-DE    2\n",
       "O2D-DE    2\n",
       "EXO-IT    2\n",
       "MTX-DE    2\n",
       "dtype: int64"
      ]
     },
     "execution_count": 455,
     "metadata": {},
     "output_type": "execute_result"
    }
   ],
   "source": [
    "df_dummies.sum(axis = 1).head() # Two dummies per row -> Multicollinearity expected -> Handle with constraints"
   ]
  },
  {
   "attachments": {
    "image-2.png": {
     "image/png": "[encoded data removed]"
    },
    "image.png": {
     "image/png": "[encoded data removed]"
    }
   },
   "cell_type": "markdown",
   "metadata": {},
   "source": [
    "## Set Constrained Regression\n",
    "\n",
    "The model assumes that the stock return $R_{it}$ can be decomposed into factors associated with its **industry** affiliation, indexd by $j$, and **country** affiliation, indexed by $k$,\n",
    "\n",
    "![image.png](attachment:image.png) *(1)*\n",
    "\n",
    "Here, $I_{ij}$ and $C_{ik}$ are dummy variables equal to **1** if stock $i$ belongs to industry $j$ and country $k$, respectively. $\\beta_{jt}$ and $\\gamma_{kt}$ are the respective industry- and country-specific effects: shocks that impact all firms within a given industry or within a given country. In addition to country and industry effects, $\\alpha_{t}$ represents an effect relevant to all securities, which can be interpreted as a global effet, and $e_{it}$ represents the effects specific to firm $i$. In order to empirically identify the country and industry components of the model, additional constraints need to be imposed. The following restrictions need to be imposed for each cross-sectional regression at each point in time:\n",
    "\n",
    "![image-2.png](attachment:image-2.png)\n",
    "\n",
    "where $w_{jt}$ and $v_{kt}$ are the beginning-of-period market capitalisation weights of industry $j$ and country $k$ respectively. These are market capitalisation weights which sum to one: $\\sum \\limits_{j=1}^{J} w_{jt} = 1$ and $\\sum \\limits_{k=1}^{K} v_{jt} = 1$. These restrictions allow for the estimation of equation *(1)*, where this approach is equivalent to measuring country and industry effects relative to a market capitalisation-weighted benchmark. When imposing these restrictions on the model, estimated using *weighted least squares*, the $\\alpha_{t}$ term in equation *(1)* is equal to the return on the value-weighted global portfolio. In other words, the restrictions imply that the value-weighted global portfolio has no country or industry effects, and country and industry effects are expressed relative to the global portfolio."
   ]
  },
  {
   "cell_type": "code",
   "execution_count": 31,
   "metadata": {},
   "outputs": [
    {
     "data": {
      "text/plain": [
       "Sector Name\n",
       "Communication Services     3.976059\n",
       "Consumer Discretionary    11.514235\n",
       "Consumer Staples          13.391256\n",
       "Energy                     4.534904\n",
       "Financials                15.756596\n",
       "Health Care               14.366104\n",
       "Industrials               14.492600\n",
       "Information Technology     7.431812\n",
       "Materials                  8.232914\n",
       "Real Estate                1.430367\n",
       "Utilities                  4.873153\n",
       "Name: % Index Weight, dtype: float64"
      ]
     },
     "execution_count": 31,
     "metadata": {},
     "output_type": "execute_result"
    }
   ],
   "source": [
    "# Calculate Sector Weights\n",
    "\n",
    "sector_weights = df.groupby(['Sector Name']).sum()['% Index Weight']\n",
    "sector_weights"
   ]
  },
  {
   "cell_type": "code",
   "execution_count": 32,
   "metadata": {},
   "outputs": [
    {
     "data": {
      "text/plain": [
       "Country\n",
       "Austria            0.276389\n",
       "Belgium            1.627028\n",
       "Denmark            3.919708\n",
       "Finland            1.705028\n",
       "France            17.935065\n",
       "Germany           14.875075\n",
       "Ireland            1.157810\n",
       "Italy              3.808700\n",
       "Netherlands        6.148901\n",
       "Norway             0.926524\n",
       "Portugal           0.266325\n",
       "Spain              4.010908\n",
       "Sweden             5.399363\n",
       "Switzerland       15.200831\n",
       "United Kingdom    22.742347\n",
       "Name: % Index Weight, dtype: float64"
      ]
     },
     "execution_count": 32,
     "metadata": {},
     "output_type": "execute_result"
    }
   ],
   "source": [
    "# Calculate Country Weights\n",
    "\n",
    "country_weights = df.groupby(['Country']).sum()['% Index Weight']\n",
    "country_weights"
   ]
  },
  {
   "cell_type": "code",
   "execution_count": 33,
   "metadata": {},
   "outputs": [
    {
     "data": {
      "text/plain": [
       "100.0"
      ]
     },
     "execution_count": 33,
     "metadata": {},
     "output_type": "execute_result"
    }
   ],
   "source": [
    "country_weights.sum()"
   ]
  },
  {
   "cell_type": "code",
   "execution_count": 34,
   "metadata": {},
   "outputs": [
    {
     "data": {
      "text/plain": [
       "99.99999999999997"
      ]
     },
     "execution_count": 34,
     "metadata": {},
     "output_type": "execute_result"
    }
   ],
   "source": [
    "sector_weights.sum()"
   ]
  },
  {
   "cell_type": "code",
   "execution_count": 456,
   "metadata": {
    "scrolled": true
   },
   "outputs": [],
   "source": [
    "# help(sm.regression.linear_model.WLS) -> No constraints can be added!"
   ]
  },
  {
   "cell_type": "code",
   "execution_count": 41,
   "metadata": {},
   "outputs": [
    {
     "data": {
      "text/plain": [
       "Symbol\n",
       "BNR-DE    0.764807\n",
       "LXS-DE    1.678890\n",
       "O2D-DE   -1.316500\n",
       "EXO-IT    1.369560\n",
       "MTX-DE    0.956609\n",
       "Name: 1 Day %Change, dtype: float64"
      ]
     },
     "execution_count": 41,
     "metadata": {},
     "output_type": "execute_result"
    }
   ],
   "source": [
    "y = df['1 Day %Change']\n",
    "y.index = df['Symbol']\n",
    "y.head()"
   ]
  },
  {
   "cell_type": "code",
   "execution_count": 37,
   "metadata": {},
   "outputs": [
    {
     "data": {
      "text/html": [
       "<div>\n",
       "<style scoped>\n",
       "    .dataframe tbody tr th:only-of-type {\n",
       "        vertical-align: middle;\n",
       "    }\n",
       "\n",
       "    .dataframe tbody tr th {\n",
       "        vertical-align: top;\n",
       "    }\n",
       "\n",
       "    .dataframe thead th {\n",
       "        text-align: right;\n",
       "    }\n",
       "</style>\n",
       "<table border=\"1\" class=\"dataframe\">\n",
       "  <thead>\n",
       "    <tr style=\"text-align: right;\">\n",
       "      <th></th>\n",
       "      <th>Name</th>\n",
       "      <th>Symbol</th>\n",
       "      <th>% Index Weight</th>\n",
       "      <th>Adj. Market Value</th>\n",
       "      <th>Adj. Shares</th>\n",
       "      <th>Price</th>\n",
       "      <th>1 Day %Change</th>\n",
       "      <th>Country</th>\n",
       "      <th>Sector Name</th>\n",
       "    </tr>\n",
       "  </thead>\n",
       "  <tbody>\n",
       "    <tr>\n",
       "      <th>1</th>\n",
       "      <td>Brenntag AG</td>\n",
       "      <td>BNR-DE</td>\n",
       "      <td>0.123562</td>\n",
       "      <td>11956.310040</td>\n",
       "      <td>154.5</td>\n",
       "      <td>77.38710</td>\n",
       "      <td>0.764807</td>\n",
       "      <td>Germany</td>\n",
       "      <td>Industrials</td>\n",
       "    </tr>\n",
       "    <tr>\n",
       "      <th>2</th>\n",
       "      <td>LANXESS AG</td>\n",
       "      <td>LXS-DE</td>\n",
       "      <td>0.064291</td>\n",
       "      <td>6220.998194</td>\n",
       "      <td>83.0755</td>\n",
       "      <td>74.88370</td>\n",
       "      <td>1.678890</td>\n",
       "      <td>Germany</td>\n",
       "      <td>Materials</td>\n",
       "    </tr>\n",
       "    <tr>\n",
       "      <th>3</th>\n",
       "      <td>Telefonica Deutschland Holding AG</td>\n",
       "      <td>O2D-DE</td>\n",
       "      <td>0.029262</td>\n",
       "      <td>2831.494737</td>\n",
       "      <td>1041.09</td>\n",
       "      <td>2.71973</td>\n",
       "      <td>-1.316500</td>\n",
       "      <td>Germany</td>\n",
       "      <td>Communication Services</td>\n",
       "    </tr>\n",
       "    <tr>\n",
       "      <th>4</th>\n",
       "      <td>EXOR N.V.</td>\n",
       "      <td>EXO-IT</td>\n",
       "      <td>0.082157</td>\n",
       "      <td>7949.805786</td>\n",
       "      <td>108.45</td>\n",
       "      <td>73.30390</td>\n",
       "      <td>1.369560</td>\n",
       "      <td>Italy</td>\n",
       "      <td>Financials</td>\n",
       "    </tr>\n",
       "    <tr>\n",
       "      <th>5</th>\n",
       "      <td>MTU Aero Engines AG</td>\n",
       "      <td>MTX-DE</td>\n",
       "      <td>0.138366</td>\n",
       "      <td>13388.790547</td>\n",
       "      <td>53.0955</td>\n",
       "      <td>252.16400</td>\n",
       "      <td>0.956609</td>\n",
       "      <td>Germany</td>\n",
       "      <td>Industrials</td>\n",
       "    </tr>\n",
       "  </tbody>\n",
       "</table>\n",
       "</div>"
      ],
      "text/plain": [
       "                                Name  Symbol  % Index Weight  \\\n",
       "1                        Brenntag AG  BNR-DE        0.123562   \n",
       "2                         LANXESS AG  LXS-DE        0.064291   \n",
       "3  Telefonica Deutschland Holding AG  O2D-DE        0.029262   \n",
       "4                          EXOR N.V.  EXO-IT        0.082157   \n",
       "5                MTU Aero Engines AG  MTX-DE        0.138366   \n",
       "\n",
       "   Adj. Market Value Adj. Shares      Price  1 Day %Change  Country  \\\n",
       "1       11956.310040       154.5   77.38710       0.764807  Germany   \n",
       "2        6220.998194     83.0755   74.88370       1.678890  Germany   \n",
       "3        2831.494737     1041.09    2.71973      -1.316500  Germany   \n",
       "4        7949.805786      108.45   73.30390       1.369560    Italy   \n",
       "5       13388.790547     53.0955  252.16400       0.956609  Germany   \n",
       "\n",
       "              Sector Name  \n",
       "1             Industrials  \n",
       "2               Materials  \n",
       "3  Communication Services  \n",
       "4              Financials  \n",
       "5             Industrials  "
      ]
     },
     "execution_count": 37,
     "metadata": {},
     "output_type": "execute_result"
    }
   ],
   "source": [
    "df.head()"
   ]
  },
  {
   "cell_type": "code",
   "execution_count": 482,
   "metadata": {},
   "outputs": [
    {
     "data": {
      "text/plain": [
       "938.189795422831"
      ]
     },
     "execution_count": 482,
     "metadata": {},
     "output_type": "execute_result"
    }
   ],
   "source": [
    "# Model 1: Uncostrained (only Sector dummies without Intercept)\n",
    "\n",
    "# intercept = pd.DataFrame(np.ones(len(y))); intercept.index = df['Symbol']\n",
    "s_dummies = pd.get_dummies(df[['Sector Name']]); s_dummies.index = df['Symbol']\n",
    "x_sector = cp.Variable(len(s_dummies.T))\n",
    "\n",
    "# A = pd.merge(intercept, s_dummies, left_index = True, right_index = True)\n",
    "\n",
    "cost = cp.sum_squares(s_dummies.values @ x_sector - y )\n",
    "prob = cp.Problem(cp.Minimize(cost))\n",
    "prob.solve()"
   ]
  },
  {
   "cell_type": "code",
   "execution_count": 483,
   "metadata": {},
   "outputs": [
    {
     "name": "stdout",
     "output_type": "stream",
     "text": [
      "Optimal value: 938.189795422831\n",
      "\n",
      "The norm of the residuals is: 30.62988402561835\n",
      "\n",
      "Optimal x_sector:\n",
      "\n",
      "[-0.27565048  1.45911541 -0.47721353  0.76022215  1.39959663 -1.06478232\n",
      "  0.78157318  1.21688235  1.53663403  0.97613523 -0.14691938]\n"
     ]
    }
   ],
   "source": [
    "print(\"Optimal value:\", prob.value)\n",
    "print(\"\\nThe norm of the residuals is:\", cp.norm(s_dummies.values @ x_sector - y, p = 2).value)\n",
    "print(\"\\nOptimal x_sector:\\n\")\n",
    "print(x_sector.value)"
   ]
  },
  {
   "cell_type": "code",
   "execution_count": 484,
   "metadata": {},
   "outputs": [
    {
     "data": {
      "text/plain": [
       "0.5321965969340814"
      ]
     },
     "execution_count": 484,
     "metadata": {},
     "output_type": "execute_result"
    }
   ],
   "source": [
    "sector_weights / 100 @ x_sector.value"
   ]
  },
  {
   "cell_type": "code",
   "execution_count": 469,
   "metadata": {},
   "outputs": [
    {
     "data": {
      "text/plain": [
       "938.189795422831"
      ]
     },
     "execution_count": 469,
     "metadata": {},
     "output_type": "execute_result"
    }
   ],
   "source": [
    "# Model 2: Constrained (Sector dummies plus Intercept) s.t. sum sector_weight * x = 0\n",
    "\n",
    "# Set Constraints and add intercept\n",
    "\n",
    "intercept = pd.DataFrame(np.ones(len(y))); intercept.index = df['Symbol']\n",
    "\n",
    "A_sector = pd.merge(intercept, s_dummies, left_index = True, right_index = True)\n",
    "\n",
    "x_sector_zero = cp.Variable(A_sector.shape[1])\n",
    "\n",
    "sector_zero = cp.sum(np.ndarray(shape = (11, 1), buffer = sector_weights.values).T / 100 @ x_sector_zero[1:]) == 0\n",
    "# sw_mod = pd.Series([0.0], index = [\"Intercept\"]).append(sector_weights)\n",
    "# sector_zero = cp.sum(sw_mod / 100 @ x_sector_zero.value) == 0\n",
    "\n",
    "cost = cp.sum_squares( A_sector.values @ x_sector_zero - y )\n",
    "prob_sector_zero = cp.Problem(cp.Minimize(cost), [ sector_zero ])\n",
    "prob_sector_zero.solve()"
   ]
  },
  {
   "cell_type": "code",
   "execution_count": 470,
   "metadata": {},
   "outputs": [
    {
     "name": "stdout",
     "output_type": "stream",
     "text": [
      "Optimal value: 938.189795422831\n",
      "\n",
      "The norm of the residuals is: 30.62988402561835\n",
      "\n",
      "Optimal x_sector:\n",
      "\n",
      "[-0.80784708  0.92691881 -1.00941013  0.22802556  0.86740003 -1.59697892\n",
      "  0.24937658  0.68468575  1.00443743  0.44393863 -0.67911597]\n"
     ]
    }
   ],
   "source": [
    "print(\"Optimal value:\", prob_sector_zero.value)\n",
    "print(\"\\nThe norm of the residuals is:\", cp.norm(A.values @ x_sector_zero - y, p = 2).value)\n",
    "print(\"\\nOptimal x_sector:\\n\")\n",
    "print(x_sector_zero[1:].value)"
   ]
  },
  {
   "cell_type": "code",
   "execution_count": 471,
   "metadata": {},
   "outputs": [
    {
     "data": {
      "text/plain": [
       "0.0"
      ]
     },
     "execution_count": 471,
     "metadata": {},
     "output_type": "execute_result"
    }
   ],
   "source": [
    "# Check Sector Constraint == 0\n",
    "\n",
    "sector_weights / 100 @ x_sector_zero[1:].value"
   ]
  },
  {
   "cell_type": "code",
   "execution_count": 472,
   "metadata": {},
   "outputs": [
    {
     "data": {
      "text/html": [
       "<div>\n",
       "<style scoped>\n",
       "    .dataframe tbody tr th:only-of-type {\n",
       "        vertical-align: middle;\n",
       "    }\n",
       "\n",
       "    .dataframe tbody tr th {\n",
       "        vertical-align: top;\n",
       "    }\n",
       "\n",
       "    .dataframe thead th {\n",
       "        text-align: right;\n",
       "    }\n",
       "</style>\n",
       "<table border=\"1\" class=\"dataframe\">\n",
       "  <thead>\n",
       "    <tr style=\"text-align: right;\">\n",
       "      <th>Sector Name</th>\n",
       "      <th>Communication Services</th>\n",
       "      <th>Consumer Discretionary</th>\n",
       "      <th>Consumer Staples</th>\n",
       "      <th>Energy</th>\n",
       "      <th>Financials</th>\n",
       "      <th>Health Care</th>\n",
       "      <th>Industrials</th>\n",
       "      <th>Information Technology</th>\n",
       "      <th>Materials</th>\n",
       "      <th>Real Estate</th>\n",
       "      <th>Utilities</th>\n",
       "    </tr>\n",
       "  </thead>\n",
       "  <tbody>\n",
       "    <tr>\n",
       "      <th>Unconstrained</th>\n",
       "      <td>-1.137386e-311</td>\n",
       "      <td>1.236121e-302</td>\n",
       "      <td>1.349837e-312</td>\n",
       "      <td>-0.000000</td>\n",
       "      <td>-0.0000</td>\n",
       "      <td>-0.000000</td>\n",
       "      <td>1.659093e-294</td>\n",
       "      <td>-0.000000</td>\n",
       "      <td>-0.000000</td>\n",
       "      <td>-0.000000</td>\n",
       "      <td>4.886560e-310</td>\n",
       "    </tr>\n",
       "    <tr>\n",
       "      <th>Sector Constrained</th>\n",
       "      <td>-8.078471e-01</td>\n",
       "      <td>9.269188e-01</td>\n",
       "      <td>-1.009410e+00</td>\n",
       "      <td>0.228026</td>\n",
       "      <td>0.8674</td>\n",
       "      <td>-1.596979</td>\n",
       "      <td>2.493766e-01</td>\n",
       "      <td>0.684686</td>\n",
       "      <td>1.004437</td>\n",
       "      <td>0.443939</td>\n",
       "      <td>-6.791160e-01</td>\n",
       "    </tr>\n",
       "  </tbody>\n",
       "</table>\n",
       "</div>"
      ],
      "text/plain": [
       "Sector Name         Communication Services  Consumer Discretionary  \\\n",
       "Unconstrained               -1.137386e-311           1.236121e-302   \n",
       "Sector Constrained           -8.078471e-01            9.269188e-01   \n",
       "\n",
       "Sector Name         Consumer Staples    Energy  Financials  Health Care  \\\n",
       "Unconstrained          1.349837e-312 -0.000000     -0.0000    -0.000000   \n",
       "Sector Constrained     -1.009410e+00  0.228026      0.8674    -1.596979   \n",
       "\n",
       "Sector Name           Industrials  Information Technology  Materials  \\\n",
       "Unconstrained       1.659093e-294               -0.000000  -0.000000   \n",
       "Sector Constrained   2.493766e-01                0.684686   1.004437   \n",
       "\n",
       "Sector Name         Real Estate      Utilities  \n",
       "Unconstrained         -0.000000  4.886560e-310  \n",
       "Sector Constrained     0.443939  -6.791160e-01  "
      ]
     },
     "execution_count": 472,
     "metadata": {},
     "output_type": "execute_result"
    }
   ],
   "source": [
    "# Summary Table Unconstrained (no intercept) & Constrained\n",
    "\n",
    "pd.DataFrame([x_sector.value, x_sector_zero.value[1:]],\n",
    "             columns = sector_weights.index, index = [\"Unconstrained\", \"Sector Constrained\"])"
   ]
  },
  {
   "cell_type": "code",
   "execution_count": 486,
   "metadata": {},
   "outputs": [
    {
     "data": {
      "text/plain": [
       "880.5693012349575"
      ]
     },
     "execution_count": 486,
     "metadata": {},
     "output_type": "execute_result"
    }
   ],
   "source": [
    "# Model 3: Constrained (Sector & Country dummies plus Intercept) s.t. sum sector_weight * x = 0 & sum country_weight * x = 0\n",
    "\n",
    "# Set Constraints and add intercept\n",
    "\n",
    "intercept.column = ['Intercept']\n",
    "c_dummies = pd.get_dummies(df[['Country']]); c_dummies.index = df['Symbol']\n",
    "\n",
    "A_sector_country = intercept.join(s_dummies).join(c_dummies)\n",
    "\n",
    "x_sector_country_zero = cp.Variable(A_sector_country.shape[1])\n",
    "\n",
    "sector_zero = cp.sum(np.ndarray(shape = (s_dummies.shape[1], 1), buffer = sector_weights.values).T / 100 @ x_sector_country_zero[1:s_dummies.shape[1]+1]) == 0\n",
    "country_zero = cp.sum(np.ndarray(shape = (c_dummies.shape[1], 1), buffer = country_weights.values).T / 100 @ x_sector_country_zero[s_dummies.shape[1]+1:]) == 0\n",
    "\n",
    "# sw_mod = pd.Series([0.0], index = [\"Intercept\"]).append(sector_weights)\n",
    "# sector_zero = cp.sum(sw_mod / 100 @ x_sector_zero.value) == 0\n",
    "\n",
    "cost = cp.sum_squares( A_sector_country.values @ x_sector_country_zero - y )\n",
    "prob_sector_country_zero = cp.Problem(cp.Minimize(cost), [ sector_zero, country_zero ])\n",
    "prob_sector_country_zero.solve()"
   ]
  },
  {
   "cell_type": "code",
   "execution_count": 487,
   "metadata": {},
   "outputs": [
    {
     "name": "stdout",
     "output_type": "stream",
     "text": [
      "Optimal value: 880.5693012349575\n",
      "\n",
      "The norm of the residuals is: 29.674387967318843\n",
      "\n",
      "Optimal x_sector:\n",
      "\n",
      "[-0.86352943  0.88980896 -0.96020485  0.18831067  0.86183321 -1.60857775\n",
      "  0.33926491  0.65889791  0.96449016  0.36601201 -0.72970013  1.68043949\n",
      "  0.19505383 -0.26572757  0.2022113   0.01388904  0.37478704 -0.99528595\n",
      "  0.14509366  0.04434555  0.168104   -1.38141865 -0.25992608 -0.62778602\n",
      " -0.30011984  0.15936641]\n"
     ]
    }
   ],
   "source": [
    "print(\"Optimal value:\", prob_sector_country_zero.value)\n",
    "print(\"\\nThe norm of the residuals is:\", cp.norm(A_sector_country.values @ x_sector_country_zero - y, p = 2).value)\n",
    "print(\"\\nOptimal x_sector:\\n\")\n",
    "print(x_sector_country_zero[1:].value)"
   ]
  },
  {
   "cell_type": "code",
   "execution_count": 488,
   "metadata": {
    "scrolled": false
   },
   "outputs": [
    {
     "data": {
      "text/html": [
       "<div>\n",
       "<style scoped>\n",
       "    .dataframe tbody tr th:only-of-type {\n",
       "        vertical-align: middle;\n",
       "    }\n",
       "\n",
       "    .dataframe tbody tr th {\n",
       "        vertical-align: top;\n",
       "    }\n",
       "\n",
       "    .dataframe thead th {\n",
       "        text-align: right;\n",
       "    }\n",
       "</style>\n",
       "<table border=\"1\" class=\"dataframe\">\n",
       "  <thead>\n",
       "    <tr style=\"text-align: right;\">\n",
       "      <th></th>\n",
       "      <th>0</th>\n",
       "    </tr>\n",
       "  </thead>\n",
       "  <tbody>\n",
       "    <tr>\n",
       "      <th>Sector Name_Communication Services</th>\n",
       "      <td>-0.863529</td>\n",
       "    </tr>\n",
       "    <tr>\n",
       "      <th>Sector Name_Consumer Discretionary</th>\n",
       "      <td>0.889809</td>\n",
       "    </tr>\n",
       "    <tr>\n",
       "      <th>Sector Name_Consumer Staples</th>\n",
       "      <td>-0.960205</td>\n",
       "    </tr>\n",
       "    <tr>\n",
       "      <th>Sector Name_Energy</th>\n",
       "      <td>0.188311</td>\n",
       "    </tr>\n",
       "    <tr>\n",
       "      <th>Sector Name_Financials</th>\n",
       "      <td>0.861833</td>\n",
       "    </tr>\n",
       "    <tr>\n",
       "      <th>Sector Name_Health Care</th>\n",
       "      <td>-1.608578</td>\n",
       "    </tr>\n",
       "    <tr>\n",
       "      <th>Sector Name_Industrials</th>\n",
       "      <td>0.339265</td>\n",
       "    </tr>\n",
       "    <tr>\n",
       "      <th>Sector Name_Information Technology</th>\n",
       "      <td>0.658898</td>\n",
       "    </tr>\n",
       "    <tr>\n",
       "      <th>Sector Name_Materials</th>\n",
       "      <td>0.964490</td>\n",
       "    </tr>\n",
       "    <tr>\n",
       "      <th>Sector Name_Real Estate</th>\n",
       "      <td>0.366012</td>\n",
       "    </tr>\n",
       "    <tr>\n",
       "      <th>Sector Name_Utilities</th>\n",
       "      <td>-0.729700</td>\n",
       "    </tr>\n",
       "    <tr>\n",
       "      <th>Country_Austria</th>\n",
       "      <td>1.680439</td>\n",
       "    </tr>\n",
       "    <tr>\n",
       "      <th>Country_Belgium</th>\n",
       "      <td>0.195054</td>\n",
       "    </tr>\n",
       "    <tr>\n",
       "      <th>Country_Denmark</th>\n",
       "      <td>-0.265728</td>\n",
       "    </tr>\n",
       "    <tr>\n",
       "      <th>Country_Finland</th>\n",
       "      <td>0.202211</td>\n",
       "    </tr>\n",
       "    <tr>\n",
       "      <th>Country_France</th>\n",
       "      <td>0.013889</td>\n",
       "    </tr>\n",
       "    <tr>\n",
       "      <th>Country_Germany</th>\n",
       "      <td>0.374787</td>\n",
       "    </tr>\n",
       "    <tr>\n",
       "      <th>Country_Ireland</th>\n",
       "      <td>-0.995286</td>\n",
       "    </tr>\n",
       "    <tr>\n",
       "      <th>Country_Italy</th>\n",
       "      <td>0.145094</td>\n",
       "    </tr>\n",
       "    <tr>\n",
       "      <th>Country_Netherlands</th>\n",
       "      <td>0.044346</td>\n",
       "    </tr>\n",
       "    <tr>\n",
       "      <th>Country_Norway</th>\n",
       "      <td>0.168104</td>\n",
       "    </tr>\n",
       "    <tr>\n",
       "      <th>Country_Portugal</th>\n",
       "      <td>-1.381419</td>\n",
       "    </tr>\n",
       "    <tr>\n",
       "      <th>Country_Spain</th>\n",
       "      <td>-0.259926</td>\n",
       "    </tr>\n",
       "    <tr>\n",
       "      <th>Country_Sweden</th>\n",
       "      <td>-0.627786</td>\n",
       "    </tr>\n",
       "    <tr>\n",
       "      <th>Country_Switzerland</th>\n",
       "      <td>-0.300120</td>\n",
       "    </tr>\n",
       "    <tr>\n",
       "      <th>Country_United Kingdom</th>\n",
       "      <td>0.159366</td>\n",
       "    </tr>\n",
       "  </tbody>\n",
       "</table>\n",
       "</div>"
      ],
      "text/plain": [
       "                                           0\n",
       "Sector Name_Communication Services -0.863529\n",
       "Sector Name_Consumer Discretionary  0.889809\n",
       "Sector Name_Consumer Staples       -0.960205\n",
       "Sector Name_Energy                  0.188311\n",
       "Sector Name_Financials              0.861833\n",
       "Sector Name_Health Care            -1.608578\n",
       "Sector Name_Industrials             0.339265\n",
       "Sector Name_Information Technology  0.658898\n",
       "Sector Name_Materials               0.964490\n",
       "Sector Name_Real Estate             0.366012\n",
       "Sector Name_Utilities              -0.729700\n",
       "Country_Austria                     1.680439\n",
       "Country_Belgium                     0.195054\n",
       "Country_Denmark                    -0.265728\n",
       "Country_Finland                     0.202211\n",
       "Country_France                      0.013889\n",
       "Country_Germany                     0.374787\n",
       "Country_Ireland                    -0.995286\n",
       "Country_Italy                       0.145094\n",
       "Country_Netherlands                 0.044346\n",
       "Country_Norway                      0.168104\n",
       "Country_Portugal                   -1.381419\n",
       "Country_Spain                      -0.259926\n",
       "Country_Sweden                     -0.627786\n",
       "Country_Switzerland                -0.300120\n",
       "Country_United Kingdom              0.159366"
      ]
     },
     "execution_count": 488,
     "metadata": {},
     "output_type": "execute_result"
    }
   ],
   "source": [
    "# Sector & Country coefficients (effects/returns)\n",
    "\n",
    "pd.DataFrame(x_sector_country_zero[1:].value, index = A_sector_country.columns[1:])"
   ]
  },
  {
   "cell_type": "code",
   "execution_count": 493,
   "metadata": {},
   "outputs": [
    {
     "data": {
      "text/plain": [
       "array([-0.])"
      ]
     },
     "execution_count": 493,
     "metadata": {},
     "output_type": "execute_result"
    }
   ],
   "source": [
    "# Check Country Constraint == 0\n",
    "\n",
    "np.round(np.ndarray(shape = (c_dummies.shape[1], 1), buffer = country_weights.values).T / 100 @ x_sector_country_zero[s_dummies.shape[1]+1:].value,2)"
   ]
  },
  {
   "cell_type": "code",
   "execution_count": 494,
   "metadata": {},
   "outputs": [
    {
     "data": {
      "text/plain": [
       "array([0.])"
      ]
     },
     "execution_count": 494,
     "metadata": {},
     "output_type": "execute_result"
    }
   ],
   "source": [
    "# Check Sector Constraint == 0\n",
    "\n",
    "np.round(np.ndarray(shape = (s_dummies.shape[1], 1), buffer = sector_weights.values).T / 100 @ x_sector_country_zero[1:s_dummies.shape[1]+1].value,2)"
   ]
  },
  {
   "cell_type": "code",
   "execution_count": null,
   "metadata": {},
   "outputs": [],
   "source": []
  }
 ],
 "metadata": {
  "kernelspec": {
   "display_name": "Python 3",
   "language": "python",
   "name": "python3"
  },
  "language_info": {
   "codemirror_mode": {
    "name": "ipython",
    "version": 3
   },
   "file_extension": ".py",
   "mimetype": "text/x-python",
   "name": "python",
   "nbconvert_exporter": "python",
   "pygments_lexer": "ipython3",
   "version": "3.7.3"
  },
  "varInspector": {
   "cols": {
    "lenName": 16,
    "lenType": 16,
    "lenVar": 40
   },
   "kernels_config": {
    "python": {
     "delete_cmd_postfix": "",
     "delete_cmd_prefix": "del ",
     "library": "var_list.py",
     "varRefreshCmd": "print(var_dic_list())"
    },
    "r": {
     "delete_cmd_postfix": ") ",
     "delete_cmd_prefix": "rm(",
     "library": "var_list.r",
     "varRefreshCmd": "cat(var_dic_list()) "
    }
   },
   "position": {
    "height": "435.521px",
    "left": "1610.35px",
    "right": "20px",
    "top": "112px",
    "width": "460.521px"
   },
   "types_to_exclude": [
    "module",
    "function",
    "builtin_function_or_method",
    "instance",
    "_Feature"
   ],
   "window_display": true
  }
 },
 "nbformat": 4,
 "nbformat_minor": 4
}
